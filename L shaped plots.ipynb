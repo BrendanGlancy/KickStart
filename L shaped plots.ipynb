{
 "cells": [
  {
   "cell_type": "code",
   "execution_count": null,
   "metadata": {},
   "outputs": [],
   "source": [
    "# the example input\n",
    "2\n",
    "4 3\n",
    "1 0 0\n",
    "1 0 1\n",
    "1 0 0\n",
    "1 1 0\n",
    "\n",
    "# output supposed to be:\n",
    "# Case #X: Y\n",
    "\n",
    "# not looking like a problem I can solve, new to this comp coding on this level\n"
   ]
  },
  {
   "cell_type": "code",
   "execution_count": 1,
   "metadata": {},
   "outputs": [
    {
     "ename": "SyntaxError",
     "evalue": "invalid syntax (<ipython-input-1-4d6516b10d00>, line 6)",
     "output_type": "error",
     "traceback": [
      "\u001b[0;36m  File \u001b[0;32m\"<ipython-input-1-4d6516b10d00>\"\u001b[0;36m, line \u001b[0;32m6\u001b[0m\n\u001b[0;31m    def l-shaped-plots():\u001b[0m\n\u001b[0m         ^\u001b[0m\n\u001b[0;31mSyntaxError\u001b[0m\u001b[0;31m:\u001b[0m invalid syntax\n"
     ]
    }
   ],
   "source": [
    "# R and C for rows and columns\n",
    "# each cell in the grid is either a 0 or 1 binary\n",
    "# the goal is to write a program to see how many valid L shapes are in the input\n",
    "\n",
    "# method to define out plot\n",
    "def plot():\n",
    "    pass\n",
    "\n",
    "# method to define grid\n",
    "def grid():\n",
    "    pass\n",
    "\n",
    "# probs not a valid python naming convention but oh well\n",
    "def l-shaped-plots():\n",
    "    R, C = map(int, input().strip().split())\n",
    "    \n",
    "    \n",
    "    # init result\n",
    "    result = 0\n",
    "    \n",
    "    # for our output we need to return the result of the # of L shaped plots\n",
    "    return result\n",
    "    \n",
    "\n",
    "# to print output in correct format\n",
    "for case in range(int(input())):\n",
    "    print('Case #%d: %s' % (case+1, l-shaped-plots()))"
   ]
  },
  {
   "cell_type": "code",
   "execution_count": null,
   "metadata": {},
   "outputs": [],
   "source": []
  }
 ],
 "metadata": {
  "kernelspec": {
   "display_name": "Python 3",
   "language": "python",
   "name": "python3"
  },
  "language_info": {
   "codemirror_mode": {
    "name": "ipython",
    "version": 3
   },
   "file_extension": ".py",
   "mimetype": "text/x-python",
   "name": "python",
   "nbconvert_exporter": "python",
   "pygments_lexer": "ipython3",
   "version": "3.8.3"
  }
 },
 "nbformat": 4,
 "nbformat_minor": 4
}
