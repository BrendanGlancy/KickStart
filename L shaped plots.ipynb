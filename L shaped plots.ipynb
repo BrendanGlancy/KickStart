{
 "cells": [
  {
   "cell_type": "code",
   "execution_count": null,
   "metadata": {},
   "outputs": [],
   "source": [
    "# the example input\n",
    "2\n",
    "4 3\n",
    "1 0 0\n",
    "1 0 1\n",
    "1 0 0\n",
    "1 1 0\n",
    "\n",
    "# output supposed to be:\n",
    "# Case #X: Y\n",
    "\n",
    "# not looking like a problem I can solve, new to this comp coding on this level\n"
   ]
  },
  {
   "cell_type": "code",
   "execution_count": 28,
   "metadata": {},
   "outputs": [
    {
     "name": "stdout",
     "output_type": "stream",
     "text": [
      "1\n",
      "4 3\n",
      "1 0 0\n",
      "1 0 1\n",
      "1 0 0\n",
      "1 1 0\n"
     ]
    },
    {
     "ename": "TypeError",
     "evalue": "descriptor 'count' for 'str' objects doesn't apply to a 'int' object",
     "output_type": "error",
     "traceback": [
      "\u001b[0;31m---------------------------------------------------------------------------\u001b[0m",
      "\u001b[0;31mTypeError\u001b[0m                                 Traceback (most recent call last)",
      "\u001b[0;32m<ipython-input-28-7d923b1accbb>\u001b[0m in \u001b[0;36m<module>\u001b[0;34m\u001b[0m\n\u001b[1;32m     40\u001b[0m \u001b[0;31m# to print output in correct format\u001b[0m\u001b[0;34m\u001b[0m\u001b[0;34m\u001b[0m\u001b[0;34m\u001b[0m\u001b[0m\n\u001b[1;32m     41\u001b[0m \u001b[0;32mfor\u001b[0m \u001b[0mcase\u001b[0m \u001b[0;32min\u001b[0m \u001b[0mrange\u001b[0m\u001b[0;34m(\u001b[0m\u001b[0mint\u001b[0m\u001b[0;34m(\u001b[0m\u001b[0minput\u001b[0m\u001b[0;34m(\u001b[0m\u001b[0;34m)\u001b[0m\u001b[0;34m)\u001b[0m\u001b[0;34m)\u001b[0m\u001b[0;34m:\u001b[0m\u001b[0;34m\u001b[0m\u001b[0;34m\u001b[0m\u001b[0m\n\u001b[0;32m---> 42\u001b[0;31m     \u001b[0mprint\u001b[0m\u001b[0;34m(\u001b[0m\u001b[0;34m'Case #%d: %s'\u001b[0m \u001b[0;34m%\u001b[0m \u001b[0;34m(\u001b[0m\u001b[0mcase\u001b[0m\u001b[0;34m+\u001b[0m\u001b[0;36m1\u001b[0m\u001b[0;34m,\u001b[0m \u001b[0ml_shaped_plots\u001b[0m\u001b[0;34m(\u001b[0m\u001b[0;34m)\u001b[0m\u001b[0;34m)\u001b[0m\u001b[0;34m)\u001b[0m\u001b[0;34m\u001b[0m\u001b[0;34m\u001b[0m\u001b[0m\n\u001b[0m",
      "\u001b[0;32m<ipython-input-28-7d923b1accbb>\u001b[0m in \u001b[0;36ml_shaped_plots\u001b[0;34m()\u001b[0m\n\u001b[1;32m     33\u001b[0m                     \u001b[0mdp\u001b[0m\u001b[0;34m[\u001b[0m\u001b[0mj\u001b[0m\u001b[0;34m]\u001b[0m \u001b[0;34m+=\u001b[0m \u001b[0;36m1\u001b[0m\u001b[0;34m\u001b[0m\u001b[0;34m\u001b[0m\u001b[0m\n\u001b[1;32m     34\u001b[0m                     \u001b[0mcurr\u001b[0m \u001b[0;34m+=\u001b[0m \u001b[0;36m1\u001b[0m\u001b[0;34m\u001b[0m\u001b[0;34m\u001b[0m\u001b[0m\n\u001b[0;32m---> 35\u001b[0;31m                     \u001b[0mresult\u001b[0m \u001b[0;34m+=\u001b[0m \u001b[0mstr\u001b[0m\u001b[0;34m.\u001b[0m\u001b[0mcount\u001b[0m\u001b[0;34m(\u001b[0m\u001b[0mcurr\u001b[0m\u001b[0;34m,\u001b[0m \u001b[0;34m(\u001b[0m\u001b[0mdp\u001b[0m\u001b[0;34m[\u001b[0m\u001b[0mj\u001b[0m\u001b[0;34m]\u001b[0m\u001b[0;34m+\u001b[0m\u001b[0;36m1\u001b[0m\u001b[0;34m)\u001b[0m\u001b[0;34m//\u001b[0m\u001b[0;36m2\u001b[0m\u001b[0;34m)\u001b[0m\u001b[0;34m\u001b[0m\u001b[0;34m\u001b[0m\u001b[0m\n\u001b[0m\u001b[1;32m     36\u001b[0m     \u001b[0;32mreturn\u001b[0m \u001b[0mresult\u001b[0m\u001b[0;34m\u001b[0m\u001b[0;34m\u001b[0m\u001b[0m\n\u001b[1;32m     37\u001b[0m \u001b[0;34m\u001b[0m\u001b[0m\n",
      "\u001b[0;31mTypeError\u001b[0m: descriptor 'count' for 'str' objects doesn't apply to a 'int' object"
     ]
    }
   ],
   "source": [
    "# R and C for rows and columns\n",
    "# each cell in the grid is either a 0 or 1 binary\n",
    "# the goal is to write a program to see how many valid L shapes are in the input\n",
    "\n",
    "\n",
    "# method to define out plot\n",
    "def plot(x, y):\n",
    "    return max((min(x//2, y)-1) + (min(x, y//2)-1), 0)\n",
    "\n",
    "# method to define grid\n",
    "def grid(G, i, j):\n",
    "    \n",
    "    return G[i][j] if len(list(G)) > len(list(G[0])) else G[j]\n",
    "\n",
    "# probs not a valid python naming convention but oh well\n",
    "def l_shaped_plots():\n",
    "    R, C = map(int, input().strip().split())\n",
    "    G = [(int, input().strip().split()) for _ in range(R)]\n",
    "    \n",
    "    # init result\n",
    "    result = 0\n",
    "    \n",
    "    for direction in (lambda x: x, reversed):\n",
    "        dp = [0]*min(R, C)\n",
    "        for i in direction(range(max(R, C))):\n",
    "            for direction in (lambda x:x, reversed):\n",
    "                curr = 0\n",
    "                for j in direction(range(min(R, C))):\n",
    "                    if not grid(G, i, j):\n",
    "                        dp[j] = 0\n",
    "                        curr = 0\n",
    "                        continue\n",
    "                    dp[j] += 1\n",
    "                    curr += 1\n",
    "                    result += str.count(curr, (dp[j]+1)//2)\n",
    "    return result\n",
    "    \n",
    "    \n",
    "\n",
    "# to print output in correct format\n",
    "for case in range(int(input())):\n",
    "    print('Case #%d: %s' % (case+1, l_shaped_plots()))"
   ]
  },
  {
   "cell_type": "code",
   "execution_count": null,
   "metadata": {},
   "outputs": [],
   "source": []
  }
 ],
 "metadata": {
  "kernelspec": {
   "display_name": "Python 3",
   "language": "python",
   "name": "python3"
  },
  "language_info": {
   "codemirror_mode": {
    "name": "ipython",
    "version": 3
   },
   "file_extension": ".py",
   "mimetype": "text/x-python",
   "name": "python",
   "nbconvert_exporter": "python",
   "pygments_lexer": "ipython3",
   "version": "3.8.3"
  }
 },
 "nbformat": 4,
 "nbformat_minor": 4
}
