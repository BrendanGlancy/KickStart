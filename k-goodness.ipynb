{
 "cells": [
  {
   "cell_type": "code",
   "execution_count": 2,
   "metadata": {},
   "outputs": [
    {
     "name": "stdout",
     "output_type": "stream",
     "text": [
      "1\n",
      "5 12\n",
      "ABCAA\n",
      "Case #1: 11\n"
     ]
    }
   ],
   "source": [
    "# N first line of input is number of test cases\n",
    "# S on the second line of input is the length of string, not in array format starting at 1\n",
    "# K is the goodness score we want\n",
    "# output the number of changes to get the desired goodness score\n",
    "\n",
    "# get our input variables\n",
    "# This is not the correct solution\n",
    "\n",
    "def goodness_string():\n",
    "    N, K = map(int, input().strip().split())\n",
    "    S = input().strip()\n",
    "\n",
    "    return abs(sum(int(S[i] != S[N-1-i]) for i in range(N//2))-K)\n",
    "\n",
    "for case in range(int(input())):\n",
    "    print('Case #%d: %s' % (case+1, goodness_string()))\n",
    "    \n"
   ]
  },
  {
   "cell_type": "code",
   "execution_count": 1,
   "metadata": {},
   "outputs": [
    {
     "name": "stdout",
     "output_type": "stream",
     "text": [
      "1\n",
      "5 1\n",
      "# N first line of input is number of test cases # S on the second line of input is the length of string, not in array format starting at 1 # K is the goodness score we want # output the number of changes to get the desired goodness score  # get our input variables # This is not the correct solution  def goodness_string():     N, K = map(int, input().strip().split())     S = input().strip()      return abs(sum(int(S[i] != S[N-1-i]) for i in range(N//2))-K)  for case in range(int(input())):     print('Case #%d: %s' % (case+1, goodness_string()))      goodness_string()\n",
      "Case #1: 0\n",
      "1\n"
     ]
    },
    {
     "ename": "ValueError",
     "evalue": "not enough values to unpack (expected 2, got 1)",
     "output_type": "error",
     "traceback": [
      "\u001b[0;31m---------------------------------------------------------------------------\u001b[0m",
      "\u001b[0;31mValueError\u001b[0m                                Traceback (most recent call last)",
      "\u001b[0;32m<ipython-input-1-80b88567a18f>\u001b[0m in \u001b[0;36m<module>\u001b[0;34m\u001b[0m\n\u001b[1;32m     16\u001b[0m     \u001b[0mprint\u001b[0m\u001b[0;34m(\u001b[0m\u001b[0;34m'Case #%d: %s'\u001b[0m \u001b[0;34m%\u001b[0m \u001b[0;34m(\u001b[0m\u001b[0mcase\u001b[0m\u001b[0;34m+\u001b[0m\u001b[0;36m1\u001b[0m\u001b[0;34m,\u001b[0m \u001b[0mgoodness_string\u001b[0m\u001b[0;34m(\u001b[0m\u001b[0;34m)\u001b[0m\u001b[0;34m)\u001b[0m\u001b[0;34m)\u001b[0m\u001b[0;34m\u001b[0m\u001b[0;34m\u001b[0m\u001b[0m\n\u001b[1;32m     17\u001b[0m \u001b[0;34m\u001b[0m\u001b[0m\n\u001b[0;32m---> 18\u001b[0;31m \u001b[0mgoodness_string\u001b[0m\u001b[0;34m(\u001b[0m\u001b[0;34m)\u001b[0m\u001b[0;34m\u001b[0m\u001b[0;34m\u001b[0m\u001b[0m\n\u001b[0m",
      "\u001b[0;32m<ipython-input-1-80b88567a18f>\u001b[0m in \u001b[0;36mgoodness_string\u001b[0;34m()\u001b[0m\n\u001b[1;32m      8\u001b[0m \u001b[0;34m\u001b[0m\u001b[0m\n\u001b[1;32m      9\u001b[0m \u001b[0;32mdef\u001b[0m \u001b[0mgoodness_string\u001b[0m\u001b[0;34m(\u001b[0m\u001b[0;34m)\u001b[0m\u001b[0;34m:\u001b[0m\u001b[0;34m\u001b[0m\u001b[0;34m\u001b[0m\u001b[0m\n\u001b[0;32m---> 10\u001b[0;31m     \u001b[0mN\u001b[0m\u001b[0;34m,\u001b[0m \u001b[0mK\u001b[0m \u001b[0;34m=\u001b[0m \u001b[0mmap\u001b[0m\u001b[0;34m(\u001b[0m\u001b[0mint\u001b[0m\u001b[0;34m,\u001b[0m \u001b[0minput\u001b[0m\u001b[0;34m(\u001b[0m\u001b[0;34m)\u001b[0m\u001b[0;34m.\u001b[0m\u001b[0mstrip\u001b[0m\u001b[0;34m(\u001b[0m\u001b[0;34m)\u001b[0m\u001b[0;34m.\u001b[0m\u001b[0msplit\u001b[0m\u001b[0;34m(\u001b[0m\u001b[0;34m)\u001b[0m\u001b[0;34m)\u001b[0m\u001b[0;34m\u001b[0m\u001b[0;34m\u001b[0m\u001b[0m\n\u001b[0m\u001b[1;32m     11\u001b[0m     \u001b[0mS\u001b[0m \u001b[0;34m=\u001b[0m \u001b[0minput\u001b[0m\u001b[0;34m(\u001b[0m\u001b[0;34m)\u001b[0m\u001b[0;34m.\u001b[0m\u001b[0mstrip\u001b[0m\u001b[0;34m(\u001b[0m\u001b[0;34m)\u001b[0m\u001b[0;34m\u001b[0m\u001b[0;34m\u001b[0m\u001b[0m\n\u001b[1;32m     12\u001b[0m \u001b[0;34m\u001b[0m\u001b[0m\n",
      "\u001b[0;31mValueError\u001b[0m: not enough values to unpack (expected 2, got 1)"
     ]
    }
   ],
   "source": [
    "# N first line of input is number of test cases\n",
    "# S on the second line of input is the length of string, not in array format starting at 1\n",
    "# K is the goodness score we want\n",
    "# output the number of changes to get the desired goodness score\n",
    "\n",
    "# get our input variables\n",
    "# This is not the correct solution\n",
    "\n",
    "def goodness_string():\n",
    "    N, K = map(int, input().strip().split())\n",
    "    S = input().strip()\n",
    "\n",
    "    return abs(sum(int(S[i] != S[N-1-i]) for i in range(N//2))-K)\n",
    "\n",
    "for case in range(int(input())):\n",
    "    print('Case #%d: %s' % (case+1, goodness_string()))\n",
    "    \n",
    "goodness_string()"
   ]
  },
  {
   "cell_type": "code",
   "execution_count": null,
   "metadata": {},
   "outputs": [],
   "source": []
  }
 ],
 "metadata": {
  "kernelspec": {
   "display_name": "Python 3",
   "language": "python",
   "name": "python3"
  }
 },
 "nbformat": 4,
 "nbformat_minor": 4
}
