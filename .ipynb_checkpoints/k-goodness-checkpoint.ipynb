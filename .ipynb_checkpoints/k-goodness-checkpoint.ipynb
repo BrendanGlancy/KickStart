{
 "cells": [
  {
   "cell_type": "code",
   "execution_count": 15,
   "metadata": {},
   "outputs": [
    {
     "name": "stdout",
     "output_type": "stream",
     "text": [
      "1\n",
      "5 1\n",
      "ABCAA\n",
      "_______________\n",
      "0\n"
     ]
    }
   ],
   "source": [
    "# N first line of input is number of test cases\n",
    "# S on the second line of input is the length of string, not in array format starting at 1\n",
    "# K is the goodness score we want\n",
    "# output the number of changes to get the desired goodness score\n",
    "\n",
    "# get our input variables\n",
    "# This is not the correct solution\n",
    "T = input()\n",
    "N, K = input().split()\n",
    "S = input()\n",
    "GS = 0\n",
    "\n",
    "\n",
    "def goodness_score(T, N, K, S, GS):\n",
    "    N = int(N)\n",
    "    # init the goodness score\n",
    "    for i in range(N):\n",
    "        if i <= 1 and i >= N/2:\n",
    "            if S[i] != S[(N-i)]:\n",
    "                GS += 1\n",
    "    return GS\n",
    "        \n",
    "goodness_score(T, N, K, S, GS)\n",
    "print(\"_______________\")\n",
    "print(GS)"
   ]
  },
  {
   "cell_type": "code",
   "execution_count": null,
   "metadata": {},
   "outputs": [],
   "source": []
  },
  {
   "cell_type": "code",
   "execution_count": null,
   "metadata": {},
   "outputs": [],
   "source": []
  }
 ],
 "metadata": {
  "kernelspec": {
   "display_name": "Python 3",
   "language": "python",
   "name": "python3"
  },
  "language_info": {
   "codemirror_mode": {
    "name": "ipython",
    "version": 3
   },
   "file_extension": ".py",
   "mimetype": "text/x-python",
   "name": "python",
   "nbconvert_exporter": "python",
   "pygments_lexer": "ipython3",
   "version": "3.8.3"
  }
 },
 "nbformat": 4,
 "nbformat_minor": 4
}
